{
  "cells": [
    {
      "cell_type": "code",
      "execution_count": null,
      "metadata": {},
      "outputs": [],
      "source": [
        "!pip install fairseq"
      ]
    },
    {
      "cell_type": "code",
      "execution_count": 1,
      "metadata": {
        "id": "5byqsslaRDXU"
      },
      "outputs": [],
      "source": [
        "import os\n",
        "import json\n",
        "import gzip\n",
        "import pandas as pd\n",
        "from urllib.request import urlopen"
      ]
    },
    {
      "cell_type": "code",
      "execution_count": null,
      "metadata": {
        "colab": {
          "base_uri": "https://localhost:8080/"
        },
        "id": "GqSVD14uoKJe",
        "outputId": "8ad4cbac-2cac-471c-a048-f22180966b20"
      },
      "outputs": [],
      "source": [
        "!wget http://snap.stanford.edu/data/amazon/productGraph/categoryFiles/reviews_Baby_5.json.gz\n",
        "!wget http://snap.stanford.edu/data/amazon/productGraph/categoryFiles/meta_Baby.json.gz"
      ]
    },
    {
      "cell_type": "code",
      "execution_count": null,
      "metadata": {
        "colab": {
          "base_uri": "https://localhost:8080/"
        },
        "id": "hYNC8jnJQ-1_",
        "outputId": "b0190485-786f-43fa-e552-42c0458192c0"
      },
      "outputs": [],
      "source": [
        "!wget https://dl.fbaipublicfiles.com/fairseq/models/roberta.large.mnli.tar.gz\n",
        "!tar -xzvf roberta.large.mnli.tar.gz"
      ]
    },
    {
      "cell_type": "code",
      "execution_count": 5,
      "metadata": {
        "id": "ZvJUwJV1c88I"
      },
      "outputs": [],
      "source": [
        "### load the meta data\n",
        "def parse_reviews_gzip(path):\n",
        "  g = gzip.open(path, 'r')\n",
        "  for l in g:\n",
        "    yield eval(l)\n",
        "\n",
        "def parse_reviews_json(json_path):\n",
        "  with open(json_path) as f:\n",
        "    for line in f:\n",
        "      yield eval(line)\n",
        "\n",
        "reviews = parse_reviews_gzip(\"reviews_Baby_5.json.gz\")\n",
        "review = next(reviews)"
      ]
    },
    {
      "cell_type": "code",
      "execution_count": 7,
      "metadata": {
        "id": "oBtYOAWod2sZ"
      },
      "outputs": [],
      "source": [
        "from fairseq.models.roberta import RobertaModel\n",
        "\n",
        "class SimularityCalculator:\n",
        "  def __init__(self, dir='./roberta.large.mnli'):\n",
        "    assert os.path.exists(dir + '/model.pt')\n",
        "    roberta = RobertaModel.from_pretrained(dir, checkpoint_file='model.pt')\n",
        "    roberta.eval()  # disable dropout (or leave in train mode to finetune)\n",
        "    self.model = roberta\n",
        "  \n",
        "  def calculate_simularity(self, text, class_name):\n",
        "    tokens = self.model.encode(text, f'this document is about {class_name.lower()}')\n",
        "    logits = self.model.predict('mnli', tokens, return_logits=True)\n",
        "    probabilities = logits.softmax(dim=-1).tolist()[0]\n",
        "    entailment_probability = probabilities[2]\n",
        "    return entailment_probability\n",
        "    "
      ]
    },
    {
      "cell_type": "code",
      "execution_count": null,
      "metadata": {
        "colab": {
          "base_uri": "https://localhost:8080/"
        },
        "id": "cXA7tmBEffZI",
        "outputId": "3b3c7a2e-31af-4672-ed9d-972905386a72"
      },
      "outputs": [],
      "source": [
        "calculator = SimularityCalculator()"
      ]
    },
    {
      "cell_type": "code",
      "execution_count": null,
      "metadata": {
        "colab": {
          "base_uri": "https://localhost:8080/"
        },
        "id": "04TxOvM1hOxi",
        "outputId": "fee6248c-5ec3-4ffb-bfa6-e4d956b3102d"
      },
      "outputs": [],
      "source": [
        "print(calculator.calculate_simularity(review['reviewText'], 'Baby'))"
      ]
    }
  ],
  "metadata": {
    "accelerator": "GPU",
    "colab": {
      "collapsed_sections": [],
      "name": "similarity.ipynb",
      "provenance": []
    },
    "kernelspec": {
      "display_name": "Python 3",
      "name": "python3"
    },
    "language_info": {
      "name": "python"
    }
  },
  "nbformat": 4,
  "nbformat_minor": 0
}
