{
 "cells": [
  {
   "cell_type": "code",
   "execution_count": null,
   "metadata": {},
   "outputs": [],
   "source": [
    "import os, sys, json\n",
    "\n",
    "sys.path.append(os.path.join(os.getcwd(), '..'))\n",
    "\n",
    "from lib.data import load_data\n",
    "from lib.common import PROJECT_PATH, cached_download"
   ]
  },
  {
   "cell_type": "code",
   "execution_count": null,
   "metadata": {},
   "outputs": [],
   "source": [
    "SAMPLE_SIZE = 45000\n",
    "BASE_DIR = os.path.join(PROJECT_PATH, 'data/dbpedia')\n",
    "INPUT_PATH = os.path.join(BASE_DIR, 'DBPEDIA_all.json')\n",
    "SAMPLE_PATH = os.path.join(BASE_DIR, f'DBPEDIA-random-{SAMPLE_SIZE}.jsonl')\n",
    "OUTPUT_PATH = os.path.join(BASE_DIR, f'DBPEDIA-coreclass-{SAMPLE_SIZE}.jsonl')\n",
    "TAXO_PATH = os.path.join(PROJECT_PATH, 'taxonomy/dbpedia.normalized.json')"
   ]
  },
  {
   "cell_type": "code",
   "execution_count": null,
   "metadata": {},
   "outputs": [],
   "source": [
    "cached_download(\n",
    "  'https://drive.google.com/drive/folders/1vfzS3v6YgwbUOODXp6zWZd36V19TcmAc',\n",
    "  BASE_DIR\n",
    ")"
   ]
  },
  {
   "cell_type": "code",
   "execution_count": null,
   "metadata": {},
   "outputs": [],
   "source": [
    "if not os.path.isfile(SAMPLE_PATH):    \n",
    "  with open(INPUT_PATH) as input_file:\n",
    "    lines = input_file.readlines()\n",
    "    lines = random.sample(lines, SAMPLE_SIZE)\n",
    "    with open(SAMPLE_PATH, 'w') as sample_file:\n",
    "      sample_file.writelines(lines)"
   ]
  },
  {
   "cell_type": "code",
   "execution_count": null,
   "metadata": {},
   "outputs": [],
   "source": [
    "dataloader = load_data(SAMPLE_PATH, SAMPLE_SIZE, 400, 6)\n",
    "for i, batch in enumerate(dataloader):\n",
    "  with open(OUTPUT_PATH, 'a') as output_file:\n",
    "    for data in batch:\n",
    "      output_file.write(json.dumps(data) + '\\n')"
   ]
  }
 ],
 "metadata": {
  "interpreter": {
   "hash": "5cf75ca9a98a0fe76c822c9f024f38126059bdb47d45268cee682c16be0963eb"
  },
  "kernelspec": {
   "display_name": "TaxoReplica (Python 3.7)",
   "language": "python",
   "name": "taxoreplica"
  },
  "language_info": {
   "codemirror_mode": {
    "name": "ipython",
    "version": 3
   },
   "file_extension": ".py",
   "mimetype": "text/x-python",
   "name": "python",
   "nbconvert_exporter": "python",
   "pygments_lexer": "ipython3",
   "version": "3.9.7"
  }
 },
 "nbformat": 4,
 "nbformat_minor": 4
}
