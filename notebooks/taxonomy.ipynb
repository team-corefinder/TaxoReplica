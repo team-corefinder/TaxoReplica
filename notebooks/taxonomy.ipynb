{
 "cells": [
  {
   "cell_type": "code",
   "execution_count": null,
   "metadata": {},
   "outputs": [],
   "source": [
    "from nltk.corpus import words, brown\n",
    "from nltk.tokenize import wordpunct_tokenize\n",
    "from nltk.stem import WordNetLemmatizer\n",
    "import json\n",
    "\n",
    "all_words = set(brown.words())\n",
    "all_words.add('CDs')\n",
    "lemmatizer = WordNetLemmatizer()\n",
    "\n",
    "def tokenize(category):\n",
    "  words = wordpunct_tokenize(category)\n",
    "  return [w for w in words if w.isalnum()]\n",
    "\n",
    "def lower_first(s):\n",
    "  return s[0].lower() + s[1:]\n",
    "\n",
    "def is_valid_word(w):\n",
    "  if len(w) < 2 or not w.isalpha():\n",
    "    return False\n",
    "  pos_list = ['n', 'v', 'a', 'r', 's']\n",
    "  lemmas = [w] + [lemmatizer.lemmatize(w, pos) for pos in pos_list] + [lemmatizer.lemmatize(lower_first(w), pos) for pos in pos_list]\n",
    "  valid_lemmas = [l for l in lemmas if l in all_words]\n",
    "  return len(valid_lemmas) > 0\n",
    "\n",
    "def is_valid_category(category):\n",
    "  words = tokenize(category)\n",
    "  is_valid = True\n",
    "  for w in words:\n",
    "    if not is_valid_word(w):\n",
    "      is_valid = False\n",
    "  return is_valid\n",
    "\n",
    "with open('../data/amazon/unique-category-paths.csv') as c_file:\n",
    "  taxo = dict()\n",
    "  for index, l in enumerate(c_file):\n",
    "    categories = l.strip().split('\\t')[:3]\n",
    "    valid_categories = [c for c in categories if is_valid_category(c)]\n",
    "    if len(categories) != len(valid_categories):\n",
    "      continue\n",
    "    history = []\n",
    "    for c in categories:\n",
    "      cursor = taxo\n",
    "      for t in history:\n",
    "        cursor = cursor.get(t, dict())\n",
    "      if not cursor.get(c):\n",
    "        cursor[c] = dict()\n",
    "      history.append(c)\n",
    "\n",
    "  with open('../data/amazon/taxonomy.small.json', 'w') as taxoFile:\n",
    "    taxoFile.write(json.dumps(taxo))\n"
   ]
  }
 ],
 "metadata": {
  "interpreter": {
   "hash": "e4ee5b5b0becb5fe19bcd621557febb7ddcb7a1460b4e858e0180967b911ee69"
  },
  "kernelspec": {
   "display_name": "Python 3.9.7 64-bit ('TaxoReplica': conda)",
   "language": "python",
   "name": "python3"
  },
  "language_info": {
   "name": "python",
   "version": "3.9.7"
  },
  "orig_nbformat": 4
 },
 "nbformat": 4,
 "nbformat_minor": 2
}
